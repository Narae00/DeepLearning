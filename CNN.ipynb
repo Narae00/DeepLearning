{
  "nbformat": 4,
  "nbformat_minor": 0,
  "metadata": {
    "colab": {
      "provenance": [],
      "authorship_tag": "ABX9TyMar3ap0Al4NXBfxJsnribu",
      "include_colab_link": true
    },
    "kernelspec": {
      "name": "python3",
      "display_name": "Python 3"
    },
    "language_info": {
      "name": "python"
    }
  },
  "cells": [
    {
      "cell_type": "markdown",
      "metadata": {
        "id": "view-in-github",
        "colab_type": "text"
      },
      "source": [
        "<a href=\"https://colab.research.google.com/github/Narae00/DeepLearning/blob/main/CNN.ipynb\" target=\"_parent\"><img src=\"https://colab.research.google.com/assets/colab-badge.svg\" alt=\"Open In Colab\"/></a>"
      ]
    },
    {
      "cell_type": "code",
      "execution_count": 1,
      "metadata": {
        "id": "g-wcupVFg09r"
      },
      "outputs": [],
      "source": [
        "def build_CNN_model(self):\n",
        "  input_layer = tf.keras.Input(shape=[self.img_shape_x, self.img_shape_y, 1,])\n",
        "  hidden_layer = tf.keras.layers.Conv2D(filters=32, kernel_size=(3,3), strides = (1,1),\n",
        "                      padding = 'valid', activation = 'relu')(input_layer)\n",
        "  hidden_layer = tf.keras.layers.MaxPool2D((2,2))(hidden_layer)\n",
        "\n",
        "  hidden_layer = tf.keras.layers.Conv2D(filters=32, kernel_size=(3,3), strides = (1,1),\n",
        "                      padding = 'valid', activation = 'relu')(hidden_layer)\n",
        "  hidden_layer = tf.keras.layers.MaxPool2D((2,2))(hidden_layer)\n",
        "\n",
        "  hidden_layer = tf.keras.layers.Flatten()(hidden_layer)\n",
        "  hidden_layer = tf.keras.layers.Dense(units=64, activation='relu')(hidden_layer)\n",
        "  output = tf.keras.layers.Dense(units=self.num_labels, activation='softmax')(hidden_layer)\n",
        "\n",
        "  classifier = tf.keras.Model(inputs=input_layer, outputs=output)\n",
        "  classifier.model.summary()\n",
        "\n",
        "  opt_alg = tf.keras,optimizers.Adam(learning_rate = 0.001)\n",
        "  loss_cross_e = tf.keras.losses.CatergoriclaCrossentropy(from_logits = False)\n",
        "  classifier_model.compile(optimizer = opt_alg, loss = loss_cross_e, metrics = ['accuracy'])\n",
        "  self.classifier = classifier_model\n",
        "\n"
      ]
    },
    {
      "cell_type": "code",
      "source": [],
      "metadata": {
        "id": "UJUbUYQfhf_M"
      },
      "execution_count": null,
      "outputs": []
    }
  ]
}