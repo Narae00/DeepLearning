{
  "nbformat": 4,
  "nbformat_minor": 0,
  "metadata": {
    "colab": {
      "provenance": [],
      "authorship_tag": "ABX9TyMhRgeDKYmvPFYZSlemCU0I",
      "include_colab_link": true
    },
    "kernelspec": {
      "name": "python3",
      "display_name": "Python 3"
    },
    "language_info": {
      "name": "python"
    }
  },
  "cells": [
    {
      "cell_type": "markdown",
      "metadata": {
        "id": "view-in-github",
        "colab_type": "text"
      },
      "source": [
        "<a href=\"https://colab.research.google.com/github/Narae00/DeepLearning/blob/main/MLP_py2.ipynb\" target=\"_parent\"><img src=\"https://colab.research.google.com/assets/colab-badge.svg\" alt=\"Open In Colab\"/></a>"
      ]
    },
    {
      "cell_type": "code",
      "execution_count": null,
      "metadata": {
        "id": "DQEZcFBHTtXs"
      },
      "outputs": [],
      "source": [
        "import tensorflow as tf\n",
        "import matplotlib.pyplot as plt\n",
        "# from ImageClassifierimport ImageClassifier## 일단주석처리해둠. ImageClassifierclass만들고나서주석해제\n",
        "def run_classifier():\n",
        "  fashion_mnist= tf.keras.datasets.fashion_mnist\n",
        "   (train_images, train_labels), (test_images, test_labels) = fashion_mnist.load_data()\n",
        "   class_names= ['T-shirt/top', 'Trouser', 'Pullover', 'Dress', 'Coat',\n",
        "                 'Sandal', 'Shirt', 'Sneaker', 'Bag', 'Ankle boot']\n",
        "\n",
        "print(\"Train data shape\")\n",
        "print(train_images.shape)\n",
        "print(\"Train data labels\")\n",
        "print(train_labels)\n",
        "print(\"Test data shape\")\n",
        "print(test_images.shape)\n",
        "print(\"Test data labels\")\n",
        "print(test_labels)\n",
        "\n",
        "plt.figure()\n",
        "plt.imshow(train_images[0])\n",
        "plt.colorbar()\n",
        "plt.grid(False)\n",
        "plt.show()\n",
        "train_images= train_images/ 255.0\n",
        "test_images= test_images/ 255.0\n",
        "plt.figure(figsize=(10,10))\n",
        "for i in range(25):\n",
        "  plt.subplot(5,5,i+1)\n",
        "  plt.xticks([])\n",
        "  plt.yticks([])\n",
        "  plt.grid(False)\n",
        "  plt.imshow(train_images[i], cmap=plt.cm.binary)\n",
        "  plt.xlabel(class_names[train_labels[i]])\n",
        "plt.show()\n",
        "\n",
        "\n",
        "### classifier train and predict –begin\n",
        "### classifier train and predict –end\n",
        "##### def run_classifier() 끝\n",
        "\n",
        "if __name__ == \"__main__\":\n",
        "  # execute only if run as a script\n",
        "  run_classifier()\n"
      ]
    }
  ]
}